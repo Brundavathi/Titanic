{
  "nbformat": 4,
  "nbformat_minor": 0,
  "metadata": {
    "colab": {
      "name": "Titanic_Train.ipynb",
      "provenance": [],
      "collapsed_sections": []
    },
    "kernelspec": {
      "name": "python3",
      "display_name": "Python 3"
    }
  },
  "cells": [
    {
      "cell_type": "code",
      "metadata": {
        "id": "oFBV2xT0FPkB"
      },
      "source": [
        "import numpy as np\n",
        "import pandas as pd\n",
        "import seaborn as sns\n",
        "import matplotlib.pyplot as plt\n",
        "%matplotlib inline"
      ],
      "execution_count": null,
      "outputs": []
    },
    {
      "cell_type": "code",
      "metadata": {
        "colab": {
          "base_uri": "https://localhost:8080/"
        },
        "id": "wk-D4L04G6_U",
        "outputId": "e61dab5e-2cd5-479d-c733-60aab0cde9e1"
      },
      "source": [
        "dataset = pd.read_csv('titanic_train.csv')\n",
        "test_dataset = pd.read_csv('titanic_test.csv')\n",
        "test_dataset.info()"
      ],
      "execution_count": null,
      "outputs": [
        {
          "output_type": "stream",
          "text": [
            "<class 'pandas.core.frame.DataFrame'>\n",
            "RangeIndex: 418 entries, 0 to 417\n",
            "Data columns (total 11 columns):\n",
            " #   Column       Non-Null Count  Dtype  \n",
            "---  ------       --------------  -----  \n",
            " 0   PassengerId  418 non-null    int64  \n",
            " 1   Pclass       418 non-null    int64  \n",
            " 2   Name         418 non-null    object \n",
            " 3   Sex          418 non-null    object \n",
            " 4   Age          332 non-null    float64\n",
            " 5   SibSp        418 non-null    int64  \n",
            " 6   Parch        418 non-null    int64  \n",
            " 7   Ticket       418 non-null    object \n",
            " 8   Fare         417 non-null    float64\n",
            " 9   Cabin        91 non-null     object \n",
            " 10  Embarked     418 non-null    object \n",
            "dtypes: float64(2), int64(4), object(5)\n",
            "memory usage: 36.0+ KB\n"
          ],
          "name": "stdout"
        }
      ]
    },
    {
      "cell_type": "code",
      "metadata": {
        "colab": {
          "base_uri": "https://localhost:8080/",
          "height": 337
        },
        "id": "9oD5wKZdI8IG",
        "outputId": "29aa4d5b-17d3-4fa0-c7db-fbe01142943e"
      },
      "source": [
        "sns.heatmap(test_dataset.isnull())"
      ],
      "execution_count": null,
      "outputs": [
        {
          "output_type": "execute_result",
          "data": {
            "text/plain": [
              "<matplotlib.axes._subplots.AxesSubplot at 0x7fb9f8eaf470>"
            ]
          },
          "metadata": {
            "tags": []
          },
          "execution_count": 81
        },
        {
          "output_type": "display_data",
          "data": {
            "image/png": "[encoded data removed]",
            "text/plain": [
              "<Figure size 432x288 with 2 Axes>"
            ]
          },
          "metadata": {
            "tags": [],
            "needs_background": "light"
          }
        }
      ]
    },
    {
      "cell_type": "code",
      "metadata": {
        "colab": {
          "base_uri": "https://localhost:8080/",
          "height": 142
        },
        "id": "9xpfGkGfJKid",
        "outputId": "e74b886e-1f19-4501-c494-6ece42b1eba7"
      },
      "source": [
        "#Median Values - Age ~ Pclass\n",
        "\n",
        "dataset[[\"Pclass\", \"Age\"]].groupby(['Pclass'], as_index = False).median().sort_values(by = 'Age',ascending=False)"
      ],
      "execution_count": null,
      "outputs": [
        {
          "output_type": "execute_result",
          "data": {
            "text/html": [
              "<div>\n",
              "<style scoped>\n",
              "    .dataframe tbody tr th:only-of-type {\n",
              "        vertical-align: middle;\n",
              "    }\n",
              "\n",
              "    .dataframe tbody tr th {\n",
              "        vertical-align: top;\n",
              "    }\n",
              "\n",
              "    .dataframe thead th {\n",
              "        text-align: right;\n",
              "    }\n",
              "</style>\n",
              "<table border=\"1\" class=\"dataframe\">\n",
              "  <thead>\n",
              "    <tr style=\"text-align: right;\">\n",
              "      <th></th>\n",
              "      <th>Pclass</th>\n",
              "      <th>Age</th>\n",
              "    </tr>\n",
              "  </thead>\n",
              "  <tbody>\n",
              "    <tr>\n",
              "      <th>0</th>\n",
              "      <td>1</td>\n",
              "      <td>37.0</td>\n",
              "    </tr>\n",
              "    <tr>\n",
              "      <th>1</th>\n",
              "      <td>2</td>\n",
              "      <td>29.0</td>\n",
              "    </tr>\n",
              "    <tr>\n",
              "      <th>2</th>\n",
              "      <td>3</td>\n",
              "      <td>24.0</td>\n",
              "    </tr>\n",
              "  </tbody>\n",
              "</table>\n",
              "</div>"
            ],
            "text/plain": [
              "   Pclass   Age\n",
              "0       1  37.0\n",
              "1       2  29.0\n",
              "2       3  24.0"
            ]
          },
          "metadata": {
            "tags": []
          },
          "execution_count": 82
        }
      ]
    },
    {
      "cell_type": "code",
      "metadata": {
        "id": "x12G3KdRLGfX"
      },
      "source": [
        "def impute_age(cols):\n",
        "  Age = cols[0]\n",
        "  Pclass = cols[1]\n",
        "\n",
        "  if pd.isnull(Age):\n",
        "    if Pclass == 1:\n",
        "      return 37\n",
        "    elif Pclass == 2:\n",
        "      return 29\n",
        "    elif Pclass == 3:\n",
        "      return 24\n",
        "  else:\n",
        "    return Age"
      ],
      "execution_count": null,
      "outputs": []
    },
    {
      "cell_type": "code",
      "metadata": {
        "id": "7Atnqi53cD01"
      },
      "source": [
        "dataset['Age'] = dataset[['Age','Pclass']].apply(impute_age,axis=1)"
      ],
      "execution_count": null,
      "outputs": []
    },
    {
      "cell_type": "code",
      "metadata": {
        "id": "xyqhpGO5cGXL"
      },
      "source": [
        "dataset.drop('Cabin',axis=1,inplace=True)"
      ],
      "execution_count": null,
      "outputs": []
    },
    {
      "cell_type": "code",
      "metadata": {
        "colab": {
          "base_uri": "https://localhost:8080/"
        },
        "id": "6Akkg_JqcQMy",
        "outputId": "c939c6ac-c95b-4cdb-cdc1-3d49da561a85"
      },
      "source": [
        "common_value = 'S'\n",
        "dataset['Embarked'] = dataset['Embarked'].fillna(common_value)\n",
        "dataset.info()"
      ],
      "execution_count": null,
      "outputs": [
        {
          "output_type": "stream",
          "text": [
            "<class 'pandas.core.frame.DataFrame'>\n",
            "RangeIndex: 891 entries, 0 to 890\n",
            "Data columns (total 11 columns):\n",
            " #   Column       Non-Null Count  Dtype  \n",
            "---  ------       --------------  -----  \n",
            " 0   PassengerId  891 non-null    int64  \n",
            " 1   Survived     891 non-null    int64  \n",
            " 2   Pclass       891 non-null    int64  \n",
            " 3   Name         891 non-null    object \n",
            " 4   Sex          891 non-null    object \n",
            " 5   Age          891 non-null    float64\n",
            " 6   SibSp        891 non-null    int64  \n",
            " 7   Parch        891 non-null    int64  \n",
            " 8   Ticket       891 non-null    object \n",
            " 9   Fare         891 non-null    float64\n",
            " 10  Embarked     891 non-null    object \n",
            "dtypes: float64(2), int64(5), object(4)\n",
            "memory usage: 76.7+ KB\n"
          ],
          "name": "stdout"
        }
      ]
    },
    {
      "cell_type": "code",
      "metadata": {
        "id": "Cq1BOOeWcbJB"
      },
      "source": [
        "sex = pd.get_dummies(dataset['Sex'],drop_first=True)\n",
        "embark = pd.get_dummies(dataset['Embarked'],drop_first=True)\n"
      ],
      "execution_count": null,
      "outputs": []
    },
    {
      "cell_type": "code",
      "metadata": {
        "id": "H1Pi_Tc0ch7E"
      },
      "source": [
        "dataset.drop(['PassengerId','Sex','Embarked','Name','Ticket'],axis=1,inplace=True)"
      ],
      "execution_count": null,
      "outputs": []
    },
    {
      "cell_type": "code",
      "metadata": {
        "id": "DmIcJB6scmbF"
      },
      "source": [
        "dataset = pd.concat([dataset,sex,embark],axis=1)"
      ],
      "execution_count": null,
      "outputs": []
    },
    {
      "cell_type": "code",
      "metadata": {
        "colab": {
          "base_uri": "https://localhost:8080/"
        },
        "id": "Jo1h4RCncpTc",
        "outputId": "ac231ac6-aaeb-456e-bbc4-665bc7699523"
      },
      "source": [
        "dataset.shape"
      ],
      "execution_count": null,
      "outputs": [
        {
          "output_type": "execute_result",
          "data": {
            "text/plain": [
              "(891, 9)"
            ]
          },
          "metadata": {
            "tags": []
          },
          "execution_count": 90
        }
      ]
    },
    {
      "cell_type": "code",
      "metadata": {
        "colab": {
          "base_uri": "https://localhost:8080/",
          "height": 204
        },
        "id": "CCfhTIY2ctC4",
        "outputId": "6dd4e4e8-58fb-4de5-c2bf-e296e16f7fc7"
      },
      "source": [
        "dataset.head()"
      ],
      "execution_count": null,
      "outputs": [
        {
          "output_type": "execute_result",
          "data": {
            "text/html": [
              "<div>\n",
              "<style scoped>\n",
              "    .dataframe tbody tr th:only-of-type {\n",
              "        vertical-align: middle;\n",
              "    }\n",
              "\n",
              "    .dataframe tbody tr th {\n",
              "        vertical-align: top;\n",
              "    }\n",
              "\n",
              "    .dataframe thead th {\n",
              "        text-align: right;\n",
              "    }\n",
              "</style>\n",
              "<table border=\"1\" class=\"dataframe\">\n",
              "  <thead>\n",
              "    <tr style=\"text-align: right;\">\n",
              "      <th></th>\n",
              "      <th>Survived</th>\n",
              "      <th>Pclass</th>\n",
              "      <th>Age</th>\n",
              "      <th>SibSp</th>\n",
              "      <th>Parch</th>\n",
              "      <th>Fare</th>\n",
              "      <th>male</th>\n",
              "      <th>Q</th>\n",
              "      <th>S</th>\n",
              "    </tr>\n",
              "  </thead>\n",
              "  <tbody>\n",
              "    <tr>\n",
              "      <th>0</th>\n",
              "      <td>0</td>\n",
              "      <td>3</td>\n",
              "      <td>22.0</td>\n",
              "      <td>1</td>\n",
              "      <td>0</td>\n",
              "      <td>7.2500</td>\n",
              "      <td>1</td>\n",
              "      <td>0</td>\n",
              "      <td>1</td>\n",
              "    </tr>\n",
              "    <tr>\n",
              "      <th>1</th>\n",
              "      <td>1</td>\n",
              "      <td>1</td>\n",
              "      <td>38.0</td>\n",
              "      <td>1</td>\n",
              "      <td>0</td>\n",
              "      <td>71.2833</td>\n",
              "      <td>0</td>\n",
              "      <td>0</td>\n",
              "      <td>0</td>\n",
              "    </tr>\n",
              "    <tr>\n",
              "      <th>2</th>\n",
              "      <td>1</td>\n",
              "      <td>3</td>\n",
              "      <td>26.0</td>\n",
              "      <td>0</td>\n",
              "      <td>0</td>\n",
              "      <td>7.9250</td>\n",
              "      <td>0</td>\n",
              "      <td>0</td>\n",
              "      <td>1</td>\n",
              "    </tr>\n",
              "    <tr>\n",
              "      <th>3</th>\n",
              "      <td>1</td>\n",
              "      <td>1</td>\n",
              "      <td>35.0</td>\n",
              "      <td>1</td>\n",
              "      <td>0</td>\n",
              "      <td>53.1000</td>\n",
              "      <td>0</td>\n",
              "      <td>0</td>\n",
              "      <td>1</td>\n",
              "    </tr>\n",
              "    <tr>\n",
              "      <th>4</th>\n",
              "      <td>0</td>\n",
              "      <td>3</td>\n",
              "      <td>35.0</td>\n",
              "      <td>0</td>\n",
              "      <td>0</td>\n",
              "      <td>8.0500</td>\n",
              "      <td>1</td>\n",
              "      <td>0</td>\n",
              "      <td>1</td>\n",
              "    </tr>\n",
              "  </tbody>\n",
              "</table>\n",
              "</div>"
            ],
            "text/plain": [
              "   Survived  Pclass   Age  SibSp  Parch     Fare  male  Q  S\n",
              "0         0       3  22.0      1      0   7.2500     1  0  1\n",
              "1         1       1  38.0      1      0  71.2833     0  0  0\n",
              "2         1       3  26.0      0      0   7.9250     0  0  1\n",
              "3         1       1  35.0      1      0  53.1000     0  0  1\n",
              "4         0       3  35.0      0      0   8.0500     1  0  1"
            ]
          },
          "metadata": {
            "tags": []
          },
          "execution_count": 91
        }
      ]
    },
    {
      "cell_type": "code",
      "metadata": {
        "id": "XSdXd-0xc5Tq"
      },
      "source": [
        "from sklearn.model_selection import train_test_split\n",
        "x_train, x_test, y_train, y_test = train_test_split(dataset.drop('Survived',axis=1), \n",
        "                                                    dataset['Survived'], test_size=0.20, \n",
        "                                                    random_state=101)"
      ],
      "execution_count": null,
      "outputs": []
    },
    {
      "cell_type": "code",
      "metadata": {
        "colab": {
          "base_uri": "https://localhost:8080/"
        },
        "id": "-oc28nhEc9gg",
        "outputId": "0452d3f0-cafd-49ad-8949-dc169c129c4e"
      },
      "source": [
        "from sklearn.linear_model import LogisticRegression\n",
        "logmodel = LogisticRegression()\n",
        "logmodel.fit(x_train,y_train)\n",
        "predictions = logmodel.predict(x_test)"
      ],
      "execution_count": null,
      "outputs": [
        {
          "output_type": "stream",
          "text": [
            "/usr/local/lib/python3.6/dist-packages/sklearn/linear_model/_logistic.py:940: ConvergenceWarning: lbfgs failed to converge (status=1):\n",
            "STOP: TOTAL NO. of ITERATIONS REACHED LIMIT.\n",
            "\n",
            "Increase the number of iterations (max_iter) or scale the data as shown in:\n",
            "    https://scikit-learn.org/stable/modules/preprocessing.html\n",
            "Please also refer to the documentation for alternative solver options:\n",
            "    https://scikit-learn.org/stable/modules/linear_model.html#logistic-regression\n",
            "  extra_warning_msg=_LOGISTIC_SOLVER_CONVERGENCE_MSG)\n"
          ],
          "name": "stderr"
        }
      ]
    },
    {
      "cell_type": "code",
      "metadata": {
        "id": "6eIyzRbNMAp7"
      },
      "source": [
        "#Filling missing values\n",
        "\n",
        "test_dataset['Age'] = dataset[['Age','Pclass']].apply(impute_age,axis=1) #Imputing Age Column\n",
        "test_dataset['Fare'].fillna(method = 'ffill',inplace = True) #Imputing Fare column"
      ],
      "execution_count": null,
      "outputs": []
    },
    {
      "cell_type": "code",
      "metadata": {
        "id": "HaVyXfQ2Mz38"
      },
      "source": [
        "#Categorical data encoding\n",
        "\n",
        "gender_test = pd.get_dummies(test_dataset['Sex'],drop_first=True)\n",
        "embark_test = pd.get_dummies(test_dataset['Embarked'],drop_first=True)"
      ],
      "execution_count": null,
      "outputs": []
    },
    {
      "cell_type": "code",
      "metadata": {
        "id": "z_jZ4aOZfuZN"
      },
      "source": [
        "PassengerId = test_dataset['PassengerId']"
      ],
      "execution_count": null,
      "outputs": []
    },
    {
      "cell_type": "code",
      "metadata": {
        "id": "Fhx-aP_3OHXi"
      },
      "source": [
        "#Concatenating encoded columns 'Sex' and 'Embarked' to the test dataset\n",
        "\n",
        "test_dataset = pd.concat([test_dataset,gender_test,embark_test],axis = 1)"
      ],
      "execution_count": null,
      "outputs": []
    },
    {
      "cell_type": "code",
      "metadata": {
        "id": "iM9J6ZeLNS4W"
      },
      "source": [
        "#Dropping redundant columns\n",
        "\n",
        "test_dataset.drop(['PassengerId','Sex','Embarked','Name','Ticket','Cabin'],axis = 1,inplace=True)"
      ],
      "execution_count": null,
      "outputs": []
    },
    {
      "cell_type": "code",
      "metadata": {
        "colab": {
          "base_uri": "https://localhost:8080/"
        },
        "id": "icmIUUASNUvV",
        "outputId": "5cea5f9c-c1fd-43a2-e470-26a0905f24e2"
      },
      "source": [
        "test_dataset.shape"
      ],
      "execution_count": null,
      "outputs": [
        {
          "output_type": "execute_result",
          "data": {
            "text/plain": [
              "(418, 8)"
            ]
          },
          "metadata": {
            "tags": []
          },
          "execution_count": 99
        }
      ]
    },
    {
      "cell_type": "code",
      "metadata": {
        "colab": {
          "base_uri": "https://localhost:8080/",
          "height": 204
        },
        "id": "zVTswlGBN9R9",
        "outputId": "495ca4a5-30ea-41e8-f354-65825e5bf14f"
      },
      "source": [
        "test_dataset.head()"
      ],
      "execution_count": null,
      "outputs": [
        {
          "output_type": "execute_result",
          "data": {
            "text/html": [
              "<div>\n",
              "<style scoped>\n",
              "    .dataframe tbody tr th:only-of-type {\n",
              "        vertical-align: middle;\n",
              "    }\n",
              "\n",
              "    .dataframe tbody tr th {\n",
              "        vertical-align: top;\n",
              "    }\n",
              "\n",
              "    .dataframe thead th {\n",
              "        text-align: right;\n",
              "    }\n",
              "</style>\n",
              "<table border=\"1\" class=\"dataframe\">\n",
              "  <thead>\n",
              "    <tr style=\"text-align: right;\">\n",
              "      <th></th>\n",
              "      <th>Pclass</th>\n",
              "      <th>Age</th>\n",
              "      <th>SibSp</th>\n",
              "      <th>Parch</th>\n",
              "      <th>Fare</th>\n",
              "      <th>male</th>\n",
              "      <th>Q</th>\n",
              "      <th>S</th>\n",
              "    </tr>\n",
              "  </thead>\n",
              "  <tbody>\n",
              "    <tr>\n",
              "      <th>0</th>\n",
              "      <td>3</td>\n",
              "      <td>22.0</td>\n",
              "      <td>0</td>\n",
              "      <td>0</td>\n",
              "      <td>7.8292</td>\n",
              "      <td>1</td>\n",
              "      <td>1</td>\n",
              "      <td>0</td>\n",
              "    </tr>\n",
              "    <tr>\n",
              "      <th>1</th>\n",
              "      <td>3</td>\n",
              "      <td>38.0</td>\n",
              "      <td>1</td>\n",
              "      <td>0</td>\n",
              "      <td>7.0000</td>\n",
              "      <td>0</td>\n",
              "      <td>0</td>\n",
              "      <td>1</td>\n",
              "    </tr>\n",
              "    <tr>\n",
              "      <th>2</th>\n",
              "      <td>2</td>\n",
              "      <td>26.0</td>\n",
              "      <td>0</td>\n",
              "      <td>0</td>\n",
              "      <td>9.6875</td>\n",
              "      <td>1</td>\n",
              "      <td>1</td>\n",
              "      <td>0</td>\n",
              "    </tr>\n",
              "    <tr>\n",
              "      <th>3</th>\n",
              "      <td>3</td>\n",
              "      <td>35.0</td>\n",
              "      <td>0</td>\n",
              "      <td>0</td>\n",
              "      <td>8.6625</td>\n",
              "      <td>1</td>\n",
              "      <td>0</td>\n",
              "      <td>1</td>\n",
              "    </tr>\n",
              "    <tr>\n",
              "      <th>4</th>\n",
              "      <td>3</td>\n",
              "      <td>35.0</td>\n",
              "      <td>1</td>\n",
              "      <td>1</td>\n",
              "      <td>12.2875</td>\n",
              "      <td>0</td>\n",
              "      <td>0</td>\n",
              "      <td>1</td>\n",
              "    </tr>\n",
              "  </tbody>\n",
              "</table>\n",
              "</div>"
            ],
            "text/plain": [
              "   Pclass   Age  SibSp  Parch     Fare  male  Q  S\n",
              "0       3  22.0      0      0   7.8292     1  1  0\n",
              "1       3  38.0      1      0   7.0000     0  0  1\n",
              "2       2  26.0      0      0   9.6875     1  1  0\n",
              "3       3  35.0      0      0   8.6625     1  0  1\n",
              "4       3  35.0      1      1  12.2875     0  0  1"
            ]
          },
          "metadata": {
            "tags": []
          },
          "execution_count": 100
        }
      ]
    },
    {
      "cell_type": "code",
      "metadata": {
        "colab": {
          "base_uri": "https://localhost:8080/"
        },
        "id": "l4sAGf4dOlMZ",
        "outputId": "57268435-18ef-4c0f-aef6-a2679f16c460"
      },
      "source": [
        "test_dataset.info()"
      ],
      "execution_count": null,
      "outputs": [
        {
          "output_type": "stream",
          "text": [
            "<class 'pandas.core.frame.DataFrame'>\n",
            "RangeIndex: 418 entries, 0 to 417\n",
            "Data columns (total 8 columns):\n",
            " #   Column  Non-Null Count  Dtype  \n",
            "---  ------  --------------  -----  \n",
            " 0   Pclass  418 non-null    int64  \n",
            " 1   Age     418 non-null    float64\n",
            " 2   SibSp   418 non-null    int64  \n",
            " 3   Parch   418 non-null    int64  \n",
            " 4   Fare    418 non-null    float64\n",
            " 5   male    418 non-null    uint8  \n",
            " 6   Q       418 non-null    uint8  \n",
            " 7   S       418 non-null    uint8  \n",
            "dtypes: float64(2), int64(3), uint8(3)\n",
            "memory usage: 17.7 KB\n"
          ],
          "name": "stdout"
        }
      ]
    },
    {
      "cell_type": "code",
      "metadata": {
        "id": "ZYFj3C7ERGyV",
        "colab": {
          "base_uri": "https://localhost:8080/"
        },
        "outputId": "4e858d62-eabf-4c9a-ffa4-d4da82243a28"
      },
      "source": [
        "y_pred_test = logmodel.predict(test_dataset)\n",
        "y_pred_test[0:10]"
      ],
      "execution_count": null,
      "outputs": [
        {
          "output_type": "execute_result",
          "data": {
            "text/plain": [
              "array([0, 0, 0, 0, 0, 0, 0, 0, 1, 0])"
            ]
          },
          "metadata": {
            "tags": []
          },
          "execution_count": 102
        }
      ]
    },
    {
      "cell_type": "code",
      "metadata": {
        "id": "G41TYBhlR8EI",
        "colab": {
          "base_uri": "https://localhost:8080/",
          "height": 204
        },
        "outputId": "fd385dde-4fac-4e9e-e190-d070e7a8f728"
      },
      "source": [
        "submission = pd.DataFrame({\n",
        "        \"PassengerId\": PassengerId,\n",
        "        \"Survived\": y_pred_test\n",
        "    })\n",
        "submission.head()"
      ],
      "execution_count": null,
      "outputs": [
        {
          "output_type": "execute_result",
          "data": {
            "text/html": [
              "<div>\n",
              "<style scoped>\n",
              "    .dataframe tbody tr th:only-of-type {\n",
              "        vertical-align: middle;\n",
              "    }\n",
              "\n",
              "    .dataframe tbody tr th {\n",
              "        vertical-align: top;\n",
              "    }\n",
              "\n",
              "    .dataframe thead th {\n",
              "        text-align: right;\n",
              "    }\n",
              "</style>\n",
              "<table border=\"1\" class=\"dataframe\">\n",
              "  <thead>\n",
              "    <tr style=\"text-align: right;\">\n",
              "      <th></th>\n",
              "      <th>PassengerId</th>\n",
              "      <th>Survived</th>\n",
              "    </tr>\n",
              "  </thead>\n",
              "  <tbody>\n",
              "    <tr>\n",
              "      <th>0</th>\n",
              "      <td>892</td>\n",
              "      <td>0</td>\n",
              "    </tr>\n",
              "    <tr>\n",
              "      <th>1</th>\n",
              "      <td>893</td>\n",
              "      <td>0</td>\n",
              "    </tr>\n",
              "    <tr>\n",
              "      <th>2</th>\n",
              "      <td>894</td>\n",
              "      <td>0</td>\n",
              "    </tr>\n",
              "    <tr>\n",
              "      <th>3</th>\n",
              "      <td>895</td>\n",
              "      <td>0</td>\n",
              "    </tr>\n",
              "    <tr>\n",
              "      <th>4</th>\n",
              "      <td>896</td>\n",
              "      <td>0</td>\n",
              "    </tr>\n",
              "  </tbody>\n",
              "</table>\n",
              "</div>"
            ],
            "text/plain": [
              "   PassengerId  Survived\n",
              "0          892         0\n",
              "1          893         0\n",
              "2          894         0\n",
              "3          895         0\n",
              "4          896         0"
            ]
          },
          "metadata": {
            "tags": []
          },
          "execution_count": 103
        }
      ]
    },
    {
      "cell_type": "code",
      "metadata": {
        "id": "uPeyqfDlfY0p"
      },
      "source": [
        "submission.to_csv('submission.csv', index=False)"
      ],
      "execution_count": null,
      "outputs": []
    },
    {
      "cell_type": "markdown",
      "metadata": {
        "id": "urqJ_UXVCumZ"
      },
      "source": [
        "Confusion Matrix"
      ]
    },
    {
      "cell_type": "code",
      "metadata": {
        "id": "dyUx9RRggL3s",
        "colab": {
          "base_uri": "https://localhost:8080/"
        },
        "outputId": "82f54950-20dd-4d1a-cfea-0b3ac7631635"
      },
      "source": [
        "from sklearn.metrics import classification_report,confusion_matrix,accuracy_score\n",
        "print('Accuracy Score :',accuracy_score(y_test,predictions))\n",
        "print('Confusion Matrix :')\n",
        "print(confusion_matrix(y_test,predictions))\n",
        "print('Classification Report :')\n",
        "print(classification_report(y_test,predictions))"
      ],
      "execution_count": null,
      "outputs": [
        {
          "output_type": "stream",
          "text": [
            "Accuracy Score : 0.8100558659217877\n",
            "Confusion Matrix :\n",
            "[[88 11]\n",
            " [23 57]]\n",
            "Classification Report :\n",
            "              precision    recall  f1-score   support\n",
            "\n",
            "           0       0.79      0.89      0.84        99\n",
            "           1       0.84      0.71      0.77        80\n",
            "\n",
            "    accuracy                           0.81       179\n",
            "   macro avg       0.82      0.80      0.80       179\n",
            "weighted avg       0.81      0.81      0.81       179\n",
            "\n"
          ],
          "name": "stdout"
        }
      ]
    },
    {
      "cell_type": "markdown",
      "metadata": {
        "id": "bN6H3xe-C3Th"
      },
      "source": [
        "ROC Curve"
      ]
    },
    {
      "cell_type": "code",
      "metadata": {
        "id": "8wt7F6zSAqhN"
      },
      "source": [
        "from sklearn.metrics import roc_curve, roc_auc_score"
      ],
      "execution_count": null,
      "outputs": []
    },
    {
      "cell_type": "code",
      "metadata": {
        "id": "CV35W_qLDJJd"
      },
      "source": [
        "def plot_roc_curve(fpr, tpr):\n",
        "  plt.plot(fpr, tpr, color='orange', label='ROC')\n",
        "  plt.plot([0, 1], [0, 1], color='darkblue', linestyle='--')\n",
        "  plt.xlabel('False Positive Rate')\n",
        "  plt.ylabel('True Positive Rate')\n",
        "  plt.title('Receiver Operating Characteristic (ROC) Curve')\n",
        "  plt.legend()\n",
        "  plt.show()"
      ],
      "execution_count": null,
      "outputs": []
    },
    {
      "cell_type": "code",
      "metadata": {
        "colab": {
          "base_uri": "https://localhost:8080/"
        },
        "id": "C3b5uOTgEYKM",
        "outputId": "43e3fdf3-a526-4035-dcdd-7954c98f8625"
      },
      "source": [
        "probs = logmodel.predict_proba(x_test)\n",
        "probs[:5]"
      ],
      "execution_count": null,
      "outputs": [
        {
          "output_type": "execute_result",
          "data": {
            "text/plain": [
              "array([[0.66814645, 0.33185355],\n",
              "       [0.03956471, 0.96043529],\n",
              "       [0.50085598, 0.49914402],\n",
              "       [0.80254188, 0.19745812],\n",
              "       [0.77261983, 0.22738017]])"
            ]
          },
          "metadata": {
            "tags": []
          },
          "execution_count": 108
        }
      ]
    },
    {
      "cell_type": "code",
      "metadata": {
        "colab": {
          "base_uri": "https://localhost:8080/"
        },
        "id": "mk34eBGDE4jr",
        "outputId": "a19deb7a-9b95-44e7-bafc-d659f8ec4133"
      },
      "source": [
        "probs = probs[:, 1] #Probability for survival\n",
        "probs"
      ],
      "execution_count": null,
      "outputs": [
        {
          "output_type": "execute_result",
          "data": {
            "text/plain": [
              "array([0.33185355, 0.96043529, 0.49914402, 0.19745812, 0.22738017,\n",
              "       0.06604391, 0.40111648, 0.12389955, 0.85573671, 0.57857759,\n",
              "       0.22738017, 0.09096591, 0.65465588, 0.11632762, 0.13141041,\n",
              "       0.06866932, 0.53909884, 0.14424055, 0.13862386, 0.76999244,\n",
              "       0.08277069, 0.06518953, 0.64394856, 0.58546864, 0.05639363,\n",
              "       0.23007709, 0.14879371, 0.22158344, 0.10538412, 0.0684288 ,\n",
              "       0.78423824, 0.79825829, 0.64395795, 0.10500236, 0.09325736,\n",
              "       0.94265591, 0.09665894, 0.0619969 , 0.09927566, 0.43040207,\n",
              "       0.66892817, 0.57857759, 0.87759494, 0.31230758, 0.17849533,\n",
              "       0.40150989, 0.05921394, 0.33427775, 0.08014439, 0.22738017,\n",
              "       0.79863688, 0.33087846, 0.74544538, 0.66320096, 0.64395795,\n",
              "       0.11654098, 0.14414788, 0.14362017, 0.29339388, 0.90609049,\n",
              "       0.91270427, 0.14223951, 0.04916687, 0.58659802, 0.06812192,\n",
              "       0.26744989, 0.80233459, 0.55656254, 0.572823  , 0.39791504,\n",
              "       0.5887772 , 0.13582114, 0.13180955, 0.13551877, 0.54483768,\n",
              "       0.9115512 , 0.08503874, 0.11278795, 0.12188317, 0.28548951,\n",
              "       0.01390979, 0.91272518, 0.13972991, 0.09995783, 0.75183703,\n",
              "       0.12367017, 0.16377964, 0.50352111, 0.09719037, 0.59090192,\n",
              "       0.13941529, 0.56514865, 0.96608827, 0.80112368, 0.51234332,\n",
              "       0.79938151, 0.70587493, 0.13987935, 0.13607757, 0.16267175,\n",
              "       0.09688794, 0.79914411, 0.33442467, 0.12617085, 0.59556803,\n",
              "       0.61961242, 0.76449024, 0.87397817, 0.70034602, 0.40545082,\n",
              "       0.35284723, 0.42352531, 0.25601132, 0.12746888, 0.56131972,\n",
              "       0.39350162, 0.82674904, 0.18482358, 0.21247413, 0.64395795,\n",
              "       0.46851536, 0.06403966, 0.88571601, 0.12766022, 0.41694692,\n",
              "       0.10602367, 0.38332825, 0.08617747, 0.84294802, 0.28533428,\n",
              "       0.94684559, 0.7490431 , 0.88655996, 0.0840609 , 0.08027779,\n",
              "       0.12940533, 0.07806605, 0.06606412, 0.11658172, 0.84187361,\n",
              "       0.08813745, 0.61150257, 0.13166602, 0.10960339, 0.52766002,\n",
              "       0.10306719, 0.93749813, 0.45860295, 0.07825874, 0.15267218,\n",
              "       0.81729515, 0.57011292, 0.32642556, 0.11658172, 0.14280867,\n",
              "       0.32028822, 0.64363897, 0.48215296, 0.80401714, 0.9248983 ,\n",
              "       0.26072613, 0.13972991, 0.52627257, 0.12019256, 0.71574062,\n",
              "       0.7421701 , 0.11663373, 0.92756413, 0.24152156, 0.30267169,\n",
              "       0.87572918, 0.13968081, 0.44482851, 0.91867125, 0.11638513,\n",
              "       0.11663373, 0.84398051, 0.05438724, 0.22738017])"
            ]
          },
          "metadata": {
            "tags": []
          },
          "execution_count": 109
        }
      ]
    },
    {
      "cell_type": "code",
      "metadata": {
        "colab": {
          "base_uri": "https://localhost:8080/"
        },
        "id": "xSGDQcx7FRZw",
        "outputId": "f22dd925-6744-4f20-ad90-7d4b1354fcce"
      },
      "source": [
        "auc = roc_auc_score(y_test, probs)\n",
        "print('AUC: %.2f' %auc)"
      ],
      "execution_count": null,
      "outputs": [
        {
          "output_type": "stream",
          "text": [
            "AUC: 0.88\n"
          ],
          "name": "stdout"
        }
      ]
    },
    {
      "cell_type": "code",
      "metadata": {
        "id": "k4fpvW5OFnUk"
      },
      "source": [
        "y_test_arr = np.array(y_test)"
      ],
      "execution_count": null,
      "outputs": []
    },
    {
      "cell_type": "code",
      "metadata": {
        "id": "nWol-y4KGPI0"
      },
      "source": [
        "fpr, tpr, thresholds = roc_curve(y_test, probs)"
      ],
      "execution_count": null,
      "outputs": []
    },
    {
      "cell_type": "code",
      "metadata": {
        "colab": {
          "base_uri": "https://localhost:8080/",
          "height": 295
        },
        "id": "p3l4YU7LGdQ9",
        "outputId": "a7712cef-649e-4399-8a37-16bc6c12a323"
      },
      "source": [
        "plot_roc_curve(fpr, tpr)"
      ],
      "execution_count": null,
      "outputs": [
        {
          "output_type": "display_data",
          "data": {
            "image/png": "[encoded data removed]",
            "text/plain": [
              "<Figure size 432x288 with 1 Axes>"
            ]
          },
          "metadata": {
            "tags": [],
            "needs_background": "light"
          }
        }
      ]
    },
    {
      "cell_type": "code",
      "metadata": {
        "id": "wH0-kxUBGoTL"
      },
      "source": [
        ""
      ],
      "execution_count": null,
      "outputs": []
    }
  ]
}